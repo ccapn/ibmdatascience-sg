{
 "cells": [
  {
   "cell_type": "code",
   "execution_count": null,
   "id": "63042f28-d5c4-46ae-899a-39a950e81193",
   "metadata": {},
   "outputs": [],
   "source": []
  },
  {
   "cell_type": "markdown",
   "id": "52946fb8-b08f-4951-8afb-5f2c90e3d54e",
   "metadata": {
    "tags": []
   },
   "source": [
    "# Data Science Tools and Ecosystem"
   ]
  },
  {
   "cell_type": "markdown",
   "id": "a0917066-dff2-4b7d-9576-c5cf9fd202a1",
   "metadata": {},
   "source": [
    "In this notebook, Data Science Tools and Ecosystem are summarized.\n"
   ]
  },
  {
   "cell_type": "markdown",
   "id": "2dc7a286-3d52-4ed0-be09-f3c4cb50d44d",
   "metadata": {},
   "source": [
    "Some of the commonly used languages used by Data Scientists include:\n",
    "   * 1. Python\n",
    "   * 2. R\n",
    "   * 3. Julia"
   ]
  },
  {
   "cell_type": "markdown",
   "id": "498c51a9-282f-41d3-989d-a80da2e9f6d7",
   "metadata": {},
   "source": [
    "Some of the commonly used libraries used by Data Scientists include:\n",
    "   * 1. scikit-learn\n",
    "   * 2. pandas\n",
    "   * 3. matplotlib"
   ]
  },
  {
   "cell_type": "markdown",
   "id": "4612b931-0c86-43a4-9e64-90d2318e4b34",
   "metadata": {},
   "source": [
    "\n",
    "\n",
    "| Data Science Tools |\n",
    "|:--------:|\n",
    "|  Jupyter Notebook   |\n",
    "| Spyder  |\n",
    "|  RStudio  |"
   ]
  },
  {
   "cell_type": "markdown",
   "id": "c7c3003d-c6f4-43c8-b443-172ef4e4c395",
   "metadata": {},
   "source": [
    "### Below are a few examples of evaluating arithmetic expressions in Python"
   ]
  },
  {
   "cell_type": "code",
   "execution_count": 5,
   "id": "3de5a5ae-e9df-477a-a09b-12a699e2bcbb",
   "metadata": {
    "tags": []
   },
   "outputs": [
    {
     "data": {
      "text/plain": [
       "17"
      ]
     },
     "execution_count": 5,
     "metadata": {},
     "output_type": "execute_result"
    }
   ],
   "source": [
    "# This a simple arithmetic expression to mutiply then add integers\n",
    "(3*4)+5"
   ]
  },
  {
   "cell_type": "code",
   "execution_count": 6,
   "id": "629224e2-eaf0-4338-88ef-a26a057fba13",
   "metadata": {
    "tags": []
   },
   "outputs": [
    {
     "data": {
      "text/plain": [
       "3.3333333333333335"
      ]
     },
     "execution_count": 6,
     "metadata": {},
     "output_type": "execute_result"
    }
   ],
   "source": [
    "# This will convert 200 minutes to hours by diving by 60\n",
    "200/60"
   ]
  },
  {
   "cell_type": "markdown",
   "id": "28964b6c-3541-4632-a791-015a5df3edef",
   "metadata": {},
   "source": [
    "**Objectives:**\n",
    "* List popular languages for Data Science\n",
    "* List popular libraries for Data Science\n",
    "* Perform arithmetic operations\n",
    "* Create and work on Jupyter Notebooks"
   ]
  },
  {
   "cell_type": "markdown",
   "id": "b4d62510-9664-4255-bb08-c0574dfdf287",
   "metadata": {},
   "source": [
    "## Author\n",
    "Sarp G."
   ]
  },
  {
   "cell_type": "code",
   "execution_count": null,
   "id": "01106a9f-84d5-47b1-b4ba-302f940451db",
   "metadata": {},
   "outputs": [],
   "source": []
  }
 ],
 "metadata": {
  "kernelspec": {
   "display_name": "Python",
   "language": "python",
   "name": "conda-env-python-py"
  },
  "language_info": {
   "codemirror_mode": {
    "name": "ipython",
    "version": 3
   },
   "file_extension": ".py",
   "mimetype": "text/x-python",
   "name": "python",
   "nbconvert_exporter": "python",
   "pygments_lexer": "ipython3",
   "version": "3.7.12"
  }
 },
 "nbformat": 4,
 "nbformat_minor": 5
}
